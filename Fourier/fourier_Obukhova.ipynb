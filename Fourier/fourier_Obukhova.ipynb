{
  "nbformat": 4,
  "nbformat_minor": 0,
  "metadata": {
    "colab": {
      "provenance": [],
      "authorship_tag": "ABX9TyMgVxrNG0/zu177qbL6AS1/"
    },
    "kernelspec": {
      "name": "python3",
      "display_name": "Python 3"
    },
    "language_info": {
      "name": "python"
    }
  },
  "cells": [
    {
      "cell_type": "markdown",
      "source": [
        "# Свойства преобразований Фурье"
      ],
      "metadata": {
        "id": "Gdd1tsCMSJt7"
      }
    },
    {
      "cell_type": "markdown",
      "source": [
        "# Линейность"
      ],
      "metadata": {
        "id": "hMNxJBp3SOHC"
      }
    },
    {
      "cell_type": "markdown",
      "source": [
        "Преобразование Фурье — это линейное преобразование. Это значит, что преобразование Фурье от суммы функций равно сумме их преобразований Фурье, умноженных на соответствующие коэффициенты.\n",
        "Например, если у нас есть две функции f(x) и g(x) и числа a и b, то:\n",
        "F{a⋅f(x)+b⋅g(x)}=a⋅F{f(x)}+b⋅F{g(x)}\n",
        "То есть преобразование Фурье \"сохраняет\" сложение и умножение на константу.\n",
        "\n"
      ],
      "metadata": {
        "id": "EA69fUX-SZz4"
      }
    },
    {
      "cell_type": "code",
      "source": [
        "from numpy import fft\n",
        "from numpy import linspace, sinc, abs\n",
        "import scipy\n",
        "def f(x):\n",
        "    return sinc(x)\n",
        "def g(x):\n",
        "    return scipy.signal.square(x)\n",
        "\n",
        "xx = linspace(0, 1, 1000)\n",
        "fft_1 = fft.rfft(2 * f(xx) + 3 * g(xx))\n",
        "fft_2 = 2 * fft.rfft(f(xx)) + 3 * fft.rfft(g(xx))\n",
        "max(abs(fft_1 - fft_2))"
      ],
      "metadata": {
        "colab": {
          "base_uri": "https://localhost:8080/"
        },
        "id": "jakwYeXLS7EX",
        "outputId": "3b65640d-79ab-4090-fcdd-8af9a0d4348f"
      },
      "execution_count": 1,
      "outputs": [
        {
          "output_type": "execute_result",
          "data": {
            "text/plain": [
              "np.float64(1.6448410295372834e-13)"
            ]
          },
          "metadata": {},
          "execution_count": 1
        }
      ]
    },
    {
      "cell_type": "markdown",
      "source": [
        "## Реакция на сдвиги по времени и частоте"
      ],
      "metadata": {
        "id": "V-K78LZWTFtO"
      }
    },
    {
      "cell_type": "markdown",
      "source": [
        "Сдвиг по времени (или пространству):\n",
        "Если сдвинуть функцию f(x) на t (то есть рассмотреть f(x+t)), то её преобразование Фурье умножается на экспоненциальный множитель:\n",
        "F{f(x+t)}(w)=exp(2πjwt)⋅F{f(x)}(w), где\n",
        "w — частота, j — мнимая единица."
      ],
      "metadata": {
        "id": "_6t6b1dbTOvG"
      }
    },
    {
      "cell_type": "markdown",
      "source": [
        "Сдвиг по частоте:\n",
        "Наоборот, если умножить функцию f(x) на exp(2πjw_0x), то её преобразование Фурье сдвигается по частоте:\n",
        "F{exp(2πjw_0x)f(x)}(w)=F{f(x)}(w+w_0)\n",
        "Это означает, что умножение на комплексную экспоненту в одной области приводит к сдвигу в другой."
      ],
      "metadata": {
        "id": "e0kZzNtOT1_Q"
      }
    },
    {
      "cell_type": "markdown",
      "source": [
        "## Теорема о свертке"
      ],
      "metadata": {
        "id": "QwB71dlPUfsL"
      }
    },
    {
      "cell_type": "markdown",
      "source": [
        "Если взять две функции f и g и их свёртку f*g, то преобразование Фурье от этой свёртки будет равно произведению преобразований Фурье исходных функций:\n",
        "F{f∗g}=F{f}⋅F{g}\n",
        "То есть, свёртка в одной области превращается в простое умножение в частотной области."
      ],
      "metadata": {
        "id": "ypk8gE9pU1Vs"
      }
    },
    {
      "cell_type": "markdown",
      "source": [
        "Обратное свойство: Аналогично, если взять произведение функций f⋅g, то его преобразование Фурье будет равно свёртке их преобразований Фурье (с нормировочным коэффициентом, зависящим от определения преобразования):\n",
        "F{f⋅g}= 1/sqrt(2π)*F{f}∗F{g}\n",
        "(Коэффициент может быть другим, например, 1/2π или 1, в зависимости от формы записи преобразования Фурье.)"
      ],
      "metadata": {
        "id": "-Nl5e482VAms"
      }
    },
    {
      "cell_type": "markdown",
      "source": [
        "## Равенство Персеваля"
      ],
      "metadata": {
        "id": "T-Ck2_mYVr9g"
      }
    },
    {
      "cell_type": "markdown",
      "source": [
        "Теорема Парсеваля утверждает, что энергия сигнала во временной (или пространственной) области равна энергии его спектра (преобразования Фурье), с точностью до нормировочного коэффициента. Т.е. энергия сигнала не \"теряется\" при переходе в частотную область — она просто перераспределяется."
      ],
      "metadata": {
        "id": "w34nz8L-VvpJ"
      }
    },
    {
      "cell_type": "code",
      "source": [
        "print((f(xx) ** 2).sum())\n",
        "fft_1 = fft.fft(f(xx))\n",
        "print((abs(fft_1) ** 2).sum() / fft_1.size)"
      ],
      "metadata": {
        "colab": {
          "base_uri": "https://localhost:8080/"
        },
        "id": "T3OA6zJpWK4d",
        "outputId": "bee7d3de-362c-47f9-8892-b3e30a6506a2"
      },
      "execution_count": 2,
      "outputs": [
        {
          "output_type": "stream",
          "name": "stdout",
          "text": [
            "451.4602551233669\n",
            "451.46025512336695\n"
          ]
        }
      ]
    },
    {
      "cell_type": "markdown",
      "source": [
        "## Дифференцирование и интегрирование фунции"
      ],
      "metadata": {
        "id": "AO6MC5GXWO7z"
      }
    },
    {
      "cell_type": "markdown",
      "source": [
        "Если взять производную функции f(x), то её преобразование Фурье получает дополнительный множитель jw:\n",
        "F{f′(x)}(w)=jw⋅F{f(x)}(w)\n",
        "То есть дифференцирование во временной области превращается в умножение на частоту w (и мнимую единицу j) в частотной области."
      ],
      "metadata": {
        "id": "g5WmozKUWSmf"
      }
    },
    {
      "cell_type": "markdown",
      "source": [
        "Для n-й производной правило обобщается:\n",
        "F{f(n)(x)}(w)=(jw)^n⋅F{f(x)}(w)\n",
        "Чем выше порядок производной, тем сильнее преобразование Фурье \"усиливается\" на высоких частотах."
      ],
      "metadata": {
        "id": "WPxPbSyYXHG_"
      }
    },
    {
      "cell_type": "markdown",
      "source": [
        "Если F(x)= интегралу от -inf до x от f(t)dt — первообразная f(x), то её преобразование Фурье связано с исходным образом как:\n",
        "F{F(x)}(w)= 1/jw⋅F{f(x)}(w)\n",
        "(При условии, что F{f}(0)=0, иначе возникает дельта-функция в нуле.)"
      ],
      "metadata": {
        "id": "NpyKT40SXX4V"
      }
    },
    {
      "cell_type": "markdown",
      "source": [
        "## Свойство масштабирования преобразования Фурье"
      ],
      "metadata": {
        "id": "cylRFB5bX3_7"
      }
    },
    {
      "cell_type": "markdown",
      "source": [
        "Если растянуть или сжать функцию f(x) по времени/аргументу (заменив x на ax), то её преобразование Фурье изменится следующим образом:\n",
        "F{f(ax)}(w)= 1/∣a∣*F{f}(w/a).\n",
        "Т.е. чем быстрее меняется сигнал, тем шире его частотный диапазон, и наоборот — растянутый во времени сигнал имеет более узкий спектр"
      ],
      "metadata": {
        "id": "DkuUeQUXYK6x"
      }
    },
    {
      "cell_type": "markdown",
      "source": [
        "Например, если f(x) — короткий импульс, то f(2x) будет в 2 раза короче, а его спектр — в 2 раза шире, но с половинной амплитудой."
      ],
      "metadata": {
        "id": "dTeiXmcRYbXO"
      }
    }
  ]
}