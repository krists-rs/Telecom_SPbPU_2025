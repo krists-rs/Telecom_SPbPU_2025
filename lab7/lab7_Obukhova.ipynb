{
  "nbformat": 4,
  "nbformat_minor": 0,
  "metadata": {
    "colab": {
      "provenance": [],
      "authorship_tag": "ABX9TyNHsR3/eixqj4hCjfc4nvjw"
    },
    "kernelspec": {
      "name": "python3",
      "display_name": "Python 3"
    },
    "language_info": {
      "name": "python"
    }
  },
  "cells": [
    {
      "cell_type": "markdown",
      "source": [
        "# Глава 7"
      ],
      "metadata": {
        "id": "Kf_XOABUAuEq"
      }
    },
    {
      "cell_type": "markdown",
      "source": [
        "## Задание 7.2."
      ],
      "metadata": {
        "id": "3H9H5gAXAwcV"
      }
    },
    {
      "cell_type": "markdown",
      "source": [
        "Требуется написать рекурсивную функцию БПФ, которая использует лемму Дэниелсона–Ланцоша для разделения задачи на подзадачи, обрабатывает базовые случаи и объединяет результаты."
      ],
      "metadata": {
        "id": "wovl-6T-WBRj"
      }
    },
    {
      "cell_type": "code",
      "source": [
        "ys = [-0.5, 0.1, 0.7, -0.1]"
      ],
      "metadata": {
        "id": "EtIniZRqYt50"
      },
      "execution_count": 4,
      "outputs": []
    },
    {
      "cell_type": "code",
      "source": [
        "import numpy as np\n",
        "\n",
        "def fft(y):\n",
        "    N = len(y)\n",
        "    if N == 1:\n",
        "        return y\n",
        "    e = fft(y[::2])\n",
        "    o = fft(y[1::2])\n",
        "\n",
        "    dft = np.zeros(N, dtype=complex)\n",
        "\n",
        "    for n in range(N // 2):\n",
        "        twiddle = np.exp(-2j * np.pi * n / N)\n",
        "        dft[n] = e[n] + twiddle * o[n]\n",
        "        dft[n + N // 2] = e[n] - twiddle * o[n]\n",
        "\n",
        "    return dft\n",
        "\n",
        "def dft(ys):\n",
        "    N = len(ys)\n",
        "    ts = np.arange(N) / N\n",
        "    freqs = np.arange(N)\n",
        "    args = np.outer(ts, freqs)\n",
        "    M = np.exp(1j * 2 * np.pi * args)\n",
        "    amps = M.conj().transpose().dot(ys)\n",
        "    return amps"
      ],
      "metadata": {
        "id": "h2goip6zWyBn"
      },
      "execution_count": 5,
      "outputs": []
    },
    {
      "cell_type": "code",
      "source": [
        "# Сравнение\n",
        "fft_custom = fft(ys)\n",
        "fft_numpy = np.fft.fft(ys)\n",
        "dft = dft(ys)\n",
        "\n",
        "\n",
        "print(\"Результат кастомного БПФ:\", fft_custom)\n",
        "print(\"Результат numpy.fft.fft:\", fft_numpy)\n",
        "print(\"Результат прямого dft:\", dft)"
      ],
      "metadata": {
        "colab": {
          "base_uri": "https://localhost:8080/"
        },
        "id": "07mXSYTvWzp7",
        "outputId": "8fb98ae8-626d-4ebc-8443-7f5f997c1456"
      },
      "execution_count": 6,
      "outputs": [
        {
          "output_type": "stream",
          "name": "stdout",
          "text": [
            "Результат кастомного БПФ: [ 0.2+0.j  -1.2-0.2j  0.2+0.j  -1.2+0.2j]\n",
            "Результат numpy.fft.fft: [ 0.2+0.j  -1.2-0.2j  0.2+0.j  -1.2+0.2j]\n",
            "Результат прямого dft: [ 0.2+0.00000000e+00j -1.2-2.00000000e-01j  0.2+1.95943488e-16j\n",
            " -1.2+2.00000000e-01j]\n"
          ]
        }
      ]
    },
    {
      "cell_type": "markdown",
      "source": [
        "В результате получили одинаковые данные для всех вычислений. Вывод - рекурсивная функция БПФ работает верно. fft и dft отличаются\n",
        "лишь тем, что fft работает быстрее, а именно за nlog(n), в то время как dft работает за n^2."
      ],
      "metadata": {
        "id": "VaRKjR2Cb82X"
      }
    }
  ]
}